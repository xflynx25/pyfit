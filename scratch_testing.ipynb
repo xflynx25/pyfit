{
 "cells": [
  {
   "cell_type": "code",
   "execution_count": null,
   "metadata": {},
   "outputs": [],
   "source": [
    "## on here we can perform the behavior we imagine using on the user end, to test our work. Environment should be the same. "
   ]
  },
  {
   "cell_type": "code",
   "execution_count": 1,
   "metadata": {},
   "outputs": [
    {
     "name": "stdout",
     "output_type": "stream",
     "text": [
      "wassup\n",
      "initializing datasets module\n",
      "initializing visualizations\n",
      "initializing neural network module\n",
      "initializing random forest\n",
      "Semiauto is coming soon\n",
      "hello world\n"
     ]
    }
   ],
   "source": [
    "import pyfit"
   ]
  },
  {
   "cell_type": "code",
   "execution_count": null,
   "metadata": {},
   "outputs": [],
   "source": [
    "# STEP 1: set up folder with dataset, initialize lab"
   ]
  }
 ],
 "metadata": {
  "kernelspec": {
   "display_name": "pyfitenv",
   "language": "python",
   "name": "python3"
  },
  "language_info": {
   "codemirror_mode": {
    "name": "ipython",
    "version": 3
   },
   "file_extension": ".py",
   "mimetype": "text/x-python",
   "name": "python",
   "nbconvert_exporter": "python",
   "pygments_lexer": "ipython3",
   "version": "3.11.5"
  },
  "orig_nbformat": 4
 },
 "nbformat": 4,
 "nbformat_minor": 2
}
