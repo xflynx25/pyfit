{
 "cells": [
  {
   "cell_type": "code",
   "execution_count": 1,
   "metadata": {},
   "outputs": [],
   "source": [
    "## on here we can perform the behavior we imagine using on the user end, to test our work. Environment should be the same. "
   ]
  },
  {
   "cell_type": "code",
   "execution_count": 2,
   "metadata": {},
   "outputs": [
    {
     "name": "stdout",
     "output_type": "stream",
     "text": [
      "wassup\n",
      "initializing datasets module\n",
      "initializing visualizations\n",
      "initializing neural network module\n",
      "initializing random forest\n",
      "Semiauto is coming soon\n",
      "hello world\n"
     ]
    }
   ],
   "source": [
    "from pyfit.dev.lab import Lab"
   ]
  },
  {
   "cell_type": "code",
   "execution_count": 3,
   "metadata": {},
   "outputs": [
    {
     "name": "stdout",
     "output_type": "stream",
     "text": [
      "init data manager\n",
      "init transformer\n",
      "init model interface\n",
      "init comparator\n",
      "init lab\n"
     ]
    },
    {
     "data": {
      "text/html": [
       "<div>\n",
       "<style scoped>\n",
       "    .dataframe tbody tr th:only-of-type {\n",
       "        vertical-align: middle;\n",
       "    }\n",
       "\n",
       "    .dataframe tbody tr th {\n",
       "        vertical-align: top;\n",
       "    }\n",
       "\n",
       "    .dataframe thead th {\n",
       "        text-align: right;\n",
       "    }\n",
       "</style>\n",
       "<table border=\"1\" class=\"dataframe\">\n",
       "  <thead>\n",
       "    <tr style=\"text-align: right;\">\n",
       "      <th></th>\n",
       "      <th>0</th>\n",
       "      <th>1</th>\n",
       "      <th>target</th>\n",
       "    </tr>\n",
       "  </thead>\n",
       "  <tbody>\n",
       "    <tr>\n",
       "      <th>0</th>\n",
       "      <td>0.004494</td>\n",
       "      <td>0.320282</td>\n",
       "      <td>1</td>\n",
       "    </tr>\n",
       "    <tr>\n",
       "      <th>1</th>\n",
       "      <td>0.506112</td>\n",
       "      <td>0.815276</td>\n",
       "      <td>0</td>\n",
       "    </tr>\n",
       "    <tr>\n",
       "      <th>2</th>\n",
       "      <td>0.053935</td>\n",
       "      <td>NaN</td>\n",
       "      <td>0</td>\n",
       "    </tr>\n",
       "    <tr>\n",
       "      <th>3</th>\n",
       "      <td>0.619364</td>\n",
       "      <td>0.030697</td>\n",
       "      <td>0</td>\n",
       "    </tr>\n",
       "    <tr>\n",
       "      <th>4</th>\n",
       "      <td>0.932021</td>\n",
       "      <td>0.598314</td>\n",
       "      <td>0</td>\n",
       "    </tr>\n",
       "  </tbody>\n",
       "</table>\n",
       "</div>"
      ],
      "text/plain": [
       "          0         1  target\n",
       "0  0.004494  0.320282       1\n",
       "1  0.506112  0.815276       0\n",
       "2  0.053935       NaN       0\n",
       "3  0.619364  0.030697       0\n",
       "4  0.932021  0.598314       0"
      ]
     },
     "execution_count": 3,
     "metadata": {},
     "output_type": "execute_result"
    }
   ],
   "source": [
    "# STEP 1: set up folder with dataset, initialize lab\n",
    "path = \"/Users/jflyn/Documents/Data/Exp0\"\n",
    "\n",
    "lab = Lab(path)\n",
    "lab.seed_data('trashy_data', name=\"breast_cancer\", samples=None, difficulty=None)  # Generates and saves data\n",
    "lab.data_manager.load_active_dataset()  # Loads the dataset just created\n",
    "lab.show_data_head()  # This will display the head of the active dataset\n"
   ]
  },
  {
   "cell_type": "code",
   "execution_count": 4,
   "metadata": {},
   "outputs": [
    {
     "name": "stdout",
     "output_type": "stream",
     "text": [
      "\n",
      "------- CLEANING INFORMATION --------\n",
      "=====================================\n",
      "\n",
      "Size of Target data (y): 100\n",
      "Size of Input data (X): 100 rows, 2 columns\n",
      "\n",
      "Total Null counts in Target: 0\n",
      "Total Null counts in Data: 27\n",
      "Columns with Nulls in Data: ['0', '1']\n",
      "Indices of Rows with Nulls in Data: [2, 11, 12, 15, 21, 22, 30, 31, 35, 54] (showing first 10 if available)\n",
      "Total Duplicate rows in Data: 11\n",
      "Indices of Duplicate Rows in Data: [8, 14, 24, 31, 35, 45, 71, 75, 88, 90] (showing first 10 if available)\n"
     ]
    }
   ],
   "source": [
    "lab.perform_eda()"
   ]
  },
  {
   "cell_type": "code",
   "execution_count": null,
   "metadata": {},
   "outputs": [],
   "source": []
  }
 ],
 "metadata": {
  "kernelspec": {
   "display_name": "pyfitenv",
   "language": "python",
   "name": "python3"
  },
  "language_info": {
   "codemirror_mode": {
    "name": "ipython",
    "version": 3
   },
   "file_extension": ".py",
   "mimetype": "text/x-python",
   "name": "python",
   "nbconvert_exporter": "python",
   "pygments_lexer": "ipython3",
   "version": "3.11.5"
  },
  "orig_nbformat": 4
 },
 "nbformat": 4,
 "nbformat_minor": 2
}
