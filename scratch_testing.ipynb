{
 "cells": [
  {
   "cell_type": "code",
   "execution_count": null,
   "metadata": {},
   "outputs": [],
   "source": [
    "## on here we can perform the behavior we imagine using on the user end, to test our work. Environment should be the same. "
   ]
  },
  {
   "cell_type": "code",
   "execution_count": 4,
   "metadata": {},
   "outputs": [],
   "source": [
    "from pyfit.dev.lab import Lab"
   ]
  },
  {
   "cell_type": "code",
   "execution_count": 5,
   "metadata": {},
   "outputs": [
    {
     "name": "stdout",
     "output_type": "stream",
     "text": [
      "init data manager\n",
      "init eda\n",
      "init transformer\n",
      "init model interface\n",
      "init comparator\n",
      "init lab\n"
     ]
    },
    {
     "ename": "AttributeError",
     "evalue": "'DataGen' object has no attribute 'load_classification'",
     "output_type": "error",
     "traceback": [
      "\u001b[0;31m---------------------------------------------------------------------------\u001b[0m",
      "\u001b[0;31mAttributeError\u001b[0m                            Traceback (most recent call last)",
      "\u001b[1;32m/Users/jflyn/Documents/projects/pyfit/scratch_testing.ipynb Cell 3\u001b[0m line \u001b[0;36m5\n\u001b[1;32m      <a href='vscode-notebook-cell:/Users/jflyn/Documents/projects/pyfit/scratch_testing.ipynb#W2sZmlsZQ%3D%3D?line=1'>2</a>\u001b[0m path \u001b[39m=\u001b[39m \u001b[39m\"\u001b[39m\u001b[39m/Users/jflyn/Documents/Data/Exp0\u001b[39m\u001b[39m\"\u001b[39m\n\u001b[1;32m      <a href='vscode-notebook-cell:/Users/jflyn/Documents/projects/pyfit/scratch_testing.ipynb#W2sZmlsZQ%3D%3D?line=3'>4</a>\u001b[0m lab \u001b[39m=\u001b[39m Lab(path)\n\u001b[0;32m----> <a href='vscode-notebook-cell:/Users/jflyn/Documents/projects/pyfit/scratch_testing.ipynb#W2sZmlsZQ%3D%3D?line=4'>5</a>\u001b[0m lab\u001b[39m.\u001b[39;49mseed_data(\u001b[39m'\u001b[39;49m\u001b[39mclassification\u001b[39;49m\u001b[39m'\u001b[39;49m, samples\u001b[39m=\u001b[39;49m\u001b[39m200\u001b[39;49m, difficulty\u001b[39m=\u001b[39;49m\u001b[39m3\u001b[39;49m)\n\u001b[1;32m      <a href='vscode-notebook-cell:/Users/jflyn/Documents/projects/pyfit/scratch_testing.ipynb#W2sZmlsZQ%3D%3D?line=5'>6</a>\u001b[0m lab\u001b[39m.\u001b[39mshow_data_head()  \u001b[39m# This will display the head of the active dataset\u001b[39;00m\n",
      "File \u001b[0;32m~/Documents/projects/pyfit/pyfit/dev/lab/lab.py:50\u001b[0m, in \u001b[0;36mLab.seed_data\u001b[0;34m(self, dataset_name, samples, difficulty)\u001b[0m\n\u001b[1;32m     46\u001b[0m \u001b[39mdef\u001b[39;00m \u001b[39mseed_data\u001b[39m(\u001b[39mself\u001b[39m, dataset_name, samples\u001b[39m=\u001b[39m\u001b[39m100\u001b[39m, difficulty\u001b[39m=\u001b[39m\u001b[39m1\u001b[39m):\n\u001b[1;32m     47\u001b[0m \u001b[39m    \u001b[39m\u001b[39m\"\"\"\u001b[39;00m\n\u001b[1;32m     48\u001b[0m \u001b[39m    Seed data by generating synthetic data or loading a common dataset, then save it.\u001b[39;00m\n\u001b[1;32m     49\u001b[0m \u001b[39m    \"\"\"\u001b[39;00m\n\u001b[0;32m---> 50\u001b[0m     \u001b[39mself\u001b[39;49m\u001b[39m.\u001b[39;49mdata_manager\u001b[39m.\u001b[39;49mgenerate_data(dataset_name, samples, difficulty)\n",
      "File \u001b[0;32m~/Documents/projects/pyfit/pyfit/dev/dataManager/dataManager.py:44\u001b[0m, in \u001b[0;36mDataManager.generate_data\u001b[0;34m(self, dataset_name, samples, difficulty)\u001b[0m\n\u001b[1;32m     40\u001b[0m \u001b[39m\u001b[39m\u001b[39m\"\"\"\u001b[39;00m\n\u001b[1;32m     41\u001b[0m \u001b[39mGenerate and save synthetic data using DataGen.\u001b[39;00m\n\u001b[1;32m     42\u001b[0m \u001b[39m\"\"\"\u001b[39;00m\n\u001b[1;32m     43\u001b[0m data_gen \u001b[39m=\u001b[39m DataGen()\n\u001b[0;32m---> 44\u001b[0m X, y \u001b[39m=\u001b[39m data_gen\u001b[39m.\u001b[39;49mmake_data(dataset_name, n_samples\u001b[39m=\u001b[39;49msamples, difficulty\u001b[39m=\u001b[39;49mdifficulty)\n\u001b[1;32m     45\u001b[0m df \u001b[39m=\u001b[39m pd\u001b[39m.\u001b[39mDataFrame(X)\n\u001b[1;32m     46\u001b[0m df[\u001b[39m'\u001b[39m\u001b[39mtarget\u001b[39m\u001b[39m'\u001b[39m] \u001b[39m=\u001b[39m y\n",
      "File \u001b[0;32m~/Documents/projects/pyfit/pyfit/dev/dataManager/datagen.py:72\u001b[0m, in \u001b[0;36mDataGen.make_data\u001b[0;34m(self, style, *args, **kwargs)\u001b[0m\n\u001b[1;32m     68\u001b[0m \u001b[39m\u001b[39m\u001b[39m\"\"\"\u001b[39;00m\n\u001b[1;32m     69\u001b[0m \u001b[39mWrapper function to call appropriate data generation or loading method based on 'style'.\u001b[39;00m\n\u001b[1;32m     70\u001b[0m \u001b[39m\"\"\"\u001b[39;00m\n\u001b[1;32m     71\u001b[0m \u001b[39mif\u001b[39;00m \u001b[39mhasattr\u001b[39m(\u001b[39mself\u001b[39m, \u001b[39mf\u001b[39m\u001b[39m\"\u001b[39m\u001b[39mmake_\u001b[39m\u001b[39m{\u001b[39;00mstyle\u001b[39m}\u001b[39;00m\u001b[39m\"\u001b[39m) \u001b[39mor\u001b[39;00m \u001b[39mhasattr\u001b[39m(\u001b[39mself\u001b[39m, \u001b[39mf\u001b[39m\u001b[39m\"\u001b[39m\u001b[39mload_\u001b[39m\u001b[39m{\u001b[39;00mstyle\u001b[39m}\u001b[39;00m\u001b[39m\"\u001b[39m):\n\u001b[0;32m---> 72\u001b[0m     method \u001b[39m=\u001b[39m \u001b[39mgetattr\u001b[39m(\u001b[39mself\u001b[39m, \u001b[39mf\u001b[39m\u001b[39m\"\u001b[39m\u001b[39mmake_\u001b[39m\u001b[39m{\u001b[39;00mstyle\u001b[39m}\u001b[39;00m\u001b[39m\"\u001b[39m, \u001b[39mgetattr\u001b[39;49m(\u001b[39mself\u001b[39;49m, \u001b[39mf\u001b[39;49m\u001b[39m\"\u001b[39;49m\u001b[39mload_\u001b[39;49m\u001b[39m{\u001b[39;49;00mstyle\u001b[39m}\u001b[39;49;00m\u001b[39m\"\u001b[39;49m))\n\u001b[1;32m     73\u001b[0m     \u001b[39mreturn\u001b[39;00m method(\u001b[39m*\u001b[39margs, \u001b[39m*\u001b[39m\u001b[39m*\u001b[39mkwargs)\n\u001b[1;32m     74\u001b[0m \u001b[39melse\u001b[39;00m:\n",
      "\u001b[0;31mAttributeError\u001b[0m: 'DataGen' object has no attribute 'load_classification'"
     ]
    }
   ],
   "source": [
    "# STEP 1: set up folder with dataset, initialize lab\n",
    "path = \"/Users/jflyn/Documents/Data/Exp0\"\n",
    "\n",
    "lab = Lab(path)\n",
    "lab.seed_data('classification', samples=200, difficulty=3)\n",
    "lab.show_data_head()  # This will display the head of the active dataset\n"
   ]
  },
  {
   "cell_type": "code",
   "execution_count": null,
   "metadata": {},
   "outputs": [],
   "source": []
  }
 ],
 "metadata": {
  "kernelspec": {
   "display_name": "pyfitenv",
   "language": "python",
   "name": "python3"
  },
  "language_info": {
   "codemirror_mode": {
    "name": "ipython",
    "version": 3
   },
   "file_extension": ".py",
   "mimetype": "text/x-python",
   "name": "python",
   "nbconvert_exporter": "python",
   "pygments_lexer": "ipython3",
   "version": "3.11.5"
  },
  "orig_nbformat": 4
 },
 "nbformat": 4,
 "nbformat_minor": 2
}
